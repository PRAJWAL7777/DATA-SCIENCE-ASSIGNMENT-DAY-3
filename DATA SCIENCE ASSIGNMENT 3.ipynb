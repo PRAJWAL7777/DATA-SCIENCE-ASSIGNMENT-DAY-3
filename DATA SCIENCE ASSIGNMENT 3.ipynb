{
 "cells": [
  {
   "cell_type": "markdown",
   "metadata": {},
   "source": [
    "Question 1"
   ]
  },
  {
   "cell_type": "code",
   "execution_count": 3,
   "metadata": {},
   "outputs": [
    {
     "name": "stdout",
     "output_type": "stream",
     "text": [
      "[ 2  5  8 11 14 17 20 23 26 29 32 35 38 41 44 47]\n"
     ]
    }
   ],
   "source": [
    "import numpy as np\n",
    "arr=np.arange(2,50,3)\n",
    "print(arr)"
   ]
  },
  {
   "cell_type": "markdown",
   "metadata": {},
   "source": [
    "Question 2"
   ]
  },
  {
   "cell_type": "code",
   "execution_count": 8,
   "metadata": {},
   "outputs": [
    {
     "name": "stdout",
     "output_type": "stream",
     "text": [
      "\n",
      "Enter the value for lst_1: 1\n",
      "\n",
      "Enter the value for lst_1: 0\n",
      "\n",
      "Enter the value for lst_1: 9\n",
      "\n",
      "Enter the value for lst_1: 2\n",
      "\n",
      "Enter the value for lst_1: 8\n",
      "\n",
      "Enter the value for lst_2: 3\n",
      "\n",
      "Enter the value for lst_2: 4\n",
      "\n",
      "Enter the value for lst_2: 7\n",
      "\n",
      "Enter the value for lst_2: 6\n",
      "\n",
      "Enter the value for lst_2: 5\n",
      "\n",
      "Array value for concatenated arr: [1 0 9 2 8 3 4 7 6 5]\n",
      "\n",
      "Sorted array for concatenated arr: [0 1 2 3 4 5 6 7 8 9]\n"
     ]
    }
   ],
   "source": [
    "import numpy as np\n",
    "lst_1=[]\n",
    "lst_2=[]\n",
    "for i in range(5):\n",
    "    x=int(input(\"\\nEnter the value for lst_1: \"))\n",
    "    lst_1.append(x)\n",
    "for i in range(5):\n",
    "    x=int(input(\"\\nEnter the value for lst_2: \"))\n",
    "    lst_2.append(x)\n",
    "arr_1=np.array(lst_1)\n",
    "arr_2=np.array(lst_2)\n",
    "arr=np.concatenate((arr_1,arr_2))\n",
    "print(\"\\nArray value for concatenated arr:\",arr)\n",
    "sortarr=np.sort(arr)\n",
    "print(\"\\nSorted array for concatenated arr:\",sortarr)"
   ]
  },
  {
   "cell_type": "markdown",
   "metadata": {},
   "source": [
    "Question 3"
   ]
  },
  {
   "cell_type": "code",
   "execution_count": 9,
   "metadata": {},
   "outputs": [
    {
     "name": "stdout",
     "output_type": "stream",
     "text": [
      "2\n",
      "10\n"
     ]
    }
   ],
   "source": [
    "import numpy as np\n",
    "arr=np.array([[3,4,6,7,8],[2,3,4,7,9]])\n",
    "print(arr.ndim)\n",
    "print(arr.size)"
   ]
  },
  {
   "cell_type": "markdown",
   "metadata": {},
   "source": [
    "Question 4"
   ]
  },
  {
   "cell_type": "code",
   "execution_count": 10,
   "metadata": {},
   "outputs": [
    {
     "name": "stdout",
     "output_type": "stream",
     "text": [
      "(12,)\n",
      "\n",
      "Shape of 2d Array in row major: (1, 12)\n",
      "\n",
      "Shape of 2d Array in column major: (12, 1)\n"
     ]
    }
   ],
   "source": [
    "import numpy as np\n",
    "arr=np.arange(12)\n",
    "print(arr.shape)\n",
    "row_arr=arr[np.newaxis,:]\n",
    "print(\"\\nShape of 2d Array in row major:\",row_arr.shape)\n",
    "col_arr=arr[:,np.newaxis]\n",
    "print(\"\\nShape of 2d Array in column major:\",col_arr.shape)\n"
   ]
  },
  {
   "cell_type": "markdown",
   "metadata": {},
   "source": [
    "Question 5\n"
   ]
  },
  {
   "cell_type": "code",
   "execution_count": 11,
   "metadata": {},
   "outputs": [
    {
     "name": "stdout",
     "output_type": "stream",
     "text": [
      "\n",
      "Horizontal Append: [  1   4   9  16  25  36  49  64  81 100]\n",
      "\n",
      "Vertical Append: [[  1   4   9  16  25]\n",
      " [ 36  49  64  81 100]]\n"
     ]
    }
   ],
   "source": [
    "import numpy as np\n",
    "arr_1=np.square([1,2,3,4,5])\n",
    "arr_2=np.square([6,7,8,9,10])\n",
    "print(\"\\nHorizontal Append:\",np.hstack((arr_1,arr_2)))\n",
    "print(\"\\nVertical Append:\",np.vstack((arr_1,arr_2)))\n",
    "\n",
    "\n"
   ]
  },
  {
   "cell_type": "markdown",
   "metadata": {},
   "source": [
    "Question 6\n"
   ]
  },
  {
   "cell_type": "code",
   "execution_count": 12,
   "metadata": {},
   "outputs": [
    {
     "name": "stdout",
     "output_type": "stream",
     "text": [
      "[[ 1  2]\n",
      " [ 2  2]\n",
      " [ 3  1]\n",
      " [ 4  2]\n",
      " [ 5  2]\n",
      " [ 6  1]\n",
      " [ 7  1]\n",
      " [ 8  1]\n",
      " [ 9  1]\n",
      " [10  1]\n",
      " [16  1]\n",
      " [25  1]]\n"
     ]
    }
   ],
   "source": [
    "import numpy as np\n",
    "arr_1=np.array([1,4,9,16,25,1,4,2,3,2,5,6,5,7,8,10])\n",
    "unique,counts=np.unique(arr_1,return_counts=True)\n",
    "arr=np.asarray((unique,counts)).T\n",
    "print(arr)"
   ]
  },
  {
   "cell_type": "code",
   "execution_count": null,
   "metadata": {},
   "outputs": [],
   "source": []
  }
 ],
 "metadata": {
  "kernelspec": {
   "display_name": "Python 3",
   "language": "python",
   "name": "python3"
  },
  "language_info": {
   "codemirror_mode": {
    "name": "ipython",
    "version": 3
   },
   "file_extension": ".py",
   "mimetype": "text/x-python",
   "name": "python",
   "nbconvert_exporter": "python",
   "pygments_lexer": "ipython3",
   "version": "3.8.3"
  }
 },
 "nbformat": 4,
 "nbformat_minor": 4
}
